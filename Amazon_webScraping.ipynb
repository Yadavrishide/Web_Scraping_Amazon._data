{
 "cells": [
  {
   "cell_type": "code",
   "execution_count": 1,
   "metadata": {},
   "outputs": [],
   "source": [
    "from bs4 import BeautifulSoup\n",
    "import requests\n",
    "import pandas as pd\n",
    "import numpy as np "
   ]
  },
  {
   "cell_type": "code",
   "execution_count": 6,
   "metadata": {},
   "outputs": [],
   "source": [
    "def get_title(product_soup):\n",
    "\n",
    "    try:\n",
    "        # Outer Tag Object\n",
    "        title = product_soup.find(\"span\", attrs={\"id\":'productTitle'})\n",
    "        \n",
    "        # Inner NavigatableString Object\n",
    "        title_value = title.text\n",
    "\n",
    "        # Title as a string value\n",
    "        title_string = title_value.strip()\n",
    "\n",
    "    except AttributeError:\n",
    "        title_string = \"\"\n",
    "\n",
    "    return title_string\n",
    "\n",
    "def get_price(product_soup):\n",
    "    try:\n",
    "        price = product_soup.find('span', attrs={'class':'a-price aok-align-center reinventPricePriceToPayMargin priceToPay'}).find('span', attrs={'class':'a-price-whole'}).text.strip()\n",
    "\n",
    "    except AttributeError:\n",
    "        price = \"\"\n",
    "    return price\n",
    "\n",
    "def get_rating(product_soup):\n",
    "    try:\n",
    "        price = product_soup.find('a', attrs={'class':'a-popover-trigger a-declarative'}).find('span', attrs={'class':'a-size-base a-color-base'}).text.strip()\n",
    "\n",
    "    except AttributeError:\n",
    "        price = \"\"\n",
    "    return price\n",
    "\n",
    "\n",
    "# Function to extract Number of User Reviews\n",
    "def get_review_count(soup):\n",
    "    try:\n",
    "        review_count = soup.find(\"a\", attrs={'class':'a-link-normal'}).find('span', attrs={'id':'acrCustomerReviewText'}).text.strip()\n",
    "\n",
    "    except AttributeError:\n",
    "        review_count = \"\"\t\n",
    "\n",
    "    return review_count\n",
    "\n"
   ]
  },
  {
   "cell_type": "code",
   "execution_count": 7,
   "metadata": {},
   "outputs": [
    {
     "name": "stdout",
     "output_type": "stream",
     "text": [
      "[]\n",
      "{'title': [], 'price': [], 'rating': [], 'reviews': [], 'availability': []}\n"
     ]
    }
   ],
   "source": [
    "Amazon_url = 'https://www.amazon.in/s?k=playstation+4&ref=nb_sb_noss_1'\n",
    "Headers = ({'User-Agent':'Mozilla/5.0 (Windows NT 10.0; Win64; x64) AppleWebKit/537.36 (KHTML, like Gecko) Chrome/124.0.0.0 Safari/537.36','Accept-Language':'en-US'})\n",
    "\n",
    "web_data = requests.get(url=Amazon_url, headers=Headers)\n",
    "\n",
    "soup_data = BeautifulSoup(web_data.content, 'html.parser')\n",
    "all_Product_links = soup_data.find_all('a', attrs={'class':'a-link-normal s-underline-text s-underline-link-text s-link-style a-text-normal'})\n",
    "link_list = []\n",
    "print(link_list)\n",
    "\n",
    "for link in all_Product_links:\n",
    "    link_list.append(link.get('href'))\n",
    "\n",
    "#print(link_list)\n",
    "\n",
    "d = {\"title\":[], \"price\":[], \"rating\":[], \"reviews\":[],\"availability\":[]}\n",
    "\n",
    "for link in link_list:\n",
    "    url = \"https://amazon.in\" + link\n",
    "    try:\n",
    "        product_page = requests.get(url=url, headers=Headers)\n",
    "        product_page\n",
    "        product_soup = BeautifulSoup(product_page.content, 'html.parser')\n",
    "        try:\n",
    "            #title = product_soup.find('span', attrs={'id':'productTitle'})\n",
    "            #title_value = title.text\n",
    "            #title_string = title_value.strip()\n",
    "            d['title'].append(get_title(product_soup))\n",
    "            d['price'].append(get_price(product_soup))\n",
    "            d['rating'].append(get_rating(product_soup))\n",
    "            d['reviews'].append(get_review_count(product_soup))\n",
    "        except AttributeError:\n",
    "            pass\n",
    "    except requests.exceptions.ConnectionError:\n",
    "        print(\"A connection error occurred. Please check your internet connection.\")\n",
    "    except requests.exceptions.Timeout:\n",
    "        print(\"The request timed out.\")\n",
    "    except requests.exceptions.HTTPError as e:\n",
    "        print(\"HTTP Error:\", e)\n",
    "    except requests.exceptions.RequestException as e:\n",
    "        print(\"An error occurred:\", e) \n",
    "\n",
    "\n",
    "print(d)\n"
   ]
  },
  {
   "cell_type": "code",
   "execution_count": null,
   "metadata": {},
   "outputs": [],
   "source": []
  }
 ],
 "metadata": {
  "kernelspec": {
   "display_name": "base",
   "language": "python",
   "name": "python3"
  },
  "language_info": {
   "codemirror_mode": {
    "name": "ipython",
    "version": 3
   },
   "file_extension": ".py",
   "mimetype": "text/x-python",
   "name": "python",
   "nbconvert_exporter": "python",
   "pygments_lexer": "ipython3",
   "version": "3.11.5"
  }
 },
 "nbformat": 4,
 "nbformat_minor": 2
}
